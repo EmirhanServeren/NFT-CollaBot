{
 "cells": [
  {
   "cell_type": "markdown",
   "metadata": {},
   "source": [
    "# **NFT COLLABOT**\n",
    "\n",
    "> Summary Value Prop Blog\n",
    "\n",
    "*NFT CollaBot* is a project that designed by obtaining requirements of NFT ecosystem. NFT marketplace from Tezos ecosystem named objkt.com will be starting point of the project. NFT CollaBot aims to make underrated artists more visible."
   ]
  },
  {
   "cell_type": "code",
   "execution_count": 1,
   "metadata": {},
   "outputs": [],
   "source": [
    "# importing libraries for data process\n",
    "import pandas as pd\n",
    "import numpy as np\n",
    "\n",
    "# importing libraries to handle web scraping\n",
    "import requests\n",
    "import json\n",
    "\n",
    "# string operations will be handled during data analysis\n",
    "import re\n",
    "import string\n",
    "from io import StringIO\n",
    "\n",
    "# also using these libraries\n",
    "import random\n",
    "import time"
   ]
  },
  {
   "cell_type": "markdown",
   "metadata": {},
   "source": [
    "### API DOCUMENTATION\n",
    "\n",
    "Objktcom has a published API documentation\n",
    "*https://data.objkt.com/docs/#listing*\n",
    "\n",
    "Documentation points GraphiQL explore page to try queries.\n",
    "There is a link below that explains how to write queries with GraphiQL\n",
    "*https://graphql.org/learn/queries/*\n",
    "\n",
    "Besides, there is a useful link to code on Python using GraphiQL queries. Check the following link:\n",
    "*https://towardsdatascience.com/connecting-to-a-graphql-api-using-python-246dda927840*"
   ]
  },
  {
   "cell_type": "code",
   "execution_count": 2,
   "metadata": {},
   "outputs": [],
   "source": [
    "# objktcom api endpoint will be used for several times to evaluate queries\n",
    "\n",
    "api_endpoint = 'https://data.objkt.com/v2/graphql'"
   ]
  },
  {
   "cell_type": "markdown",
   "metadata": {},
   "source": [
    "> ##### GRAPHIQL\n",
    "GraphiQL playground is useful tool to understand insight of the query format\n",
    ">  https://data.objkt.com/explore/"
   ]
  },
  {
   "cell_type": "markdown",
   "metadata": {},
   "source": [
    "> #### Retrieve Beginning Primary Key Value\n",
    "\n",
    "There are thousands of NFTs belongs to a tag. It will take too long to get all of the data. Besides, it will be more effective to show newer NFTs to achieve main target of the project.\n",
    "\n",
    "The mechanism have to use token_pk to request data, according to API constrains. Decided to choose a token_pk using a timestamp."
   ]
  },
  {
   "cell_type": "code",
   "execution_count": 3,
   "metadata": {},
   "outputs": [
    {
     "data": {
      "text/plain": [
       "\"\\n# send request\\ntoken_pk_data = requests.post(api_endpoint, json={'query': initial_token_pk_query})\\ntoken_pk_data = json.loads(token_pk_data.text)\\ntoken_pk_data=token_pk_data['data']['token']\\n\\n# output is 8682680\\n# this primary key will be used in the next steps of the development\\n\""
      ]
     },
     "execution_count": 3,
     "metadata": {},
     "output_type": "execute_result"
    }
   ],
   "source": [
    "# query for getting primary key has evaluated below:\n",
    "\n",
    "#initial_token_pk_query=\"\"\"query {\n",
    "#    token(where: {timestamp: {_gt: \"2022-06-15T00:12:00+00:00\"}}, limit: 1) {\n",
    "#    creators {\n",
    "#        token_pk\n",
    "#    }\n",
    "#    }\n",
    "#}\"\"\"\n",
    "\n",
    "\"\"\"\n",
    "# send request\n",
    "token_pk_data = requests.post(api_endpoint, json={'query': initial_token_pk_query})\n",
    "token_pk_data = json.loads(token_pk_data.text)\n",
    "token_pk_data=token_pk_data['data']['token']\n",
    "\n",
    "# output is 8682680\n",
    "# this primary key will be used in the next steps of the development\n",
    "\"\"\""
   ]
  },
  {
   "cell_type": "markdown",
   "metadata": {},
   "source": [
    "### RECURSIVE MECHANISM TO GET TOKEN PRIMARY KEY DATA\n",
    "\n",
    "After getting primary key of the starting point, query for tag of token will be evaluated. In this query, only primary keys of tokens will be requested from API. Then, this primary key value will be used to get information about related NFT. This mechanism aims to implement request process recursively."
   ]
  },
  {
   "cell_type": "code",
   "execution_count": 4,
   "metadata": {},
   "outputs": [
    {
     "data": {
      "text/html": [
       "<div>\n",
       "<style scoped>\n",
       "    .dataframe tbody tr th:only-of-type {\n",
       "        vertical-align: middle;\n",
       "    }\n",
       "\n",
       "    .dataframe tbody tr th {\n",
       "        vertical-align: top;\n",
       "    }\n",
       "\n",
       "    .dataframe thead th {\n",
       "        text-align: right;\n",
       "    }\n",
       "</style>\n",
       "<table border=\"1\" class=\"dataframe\">\n",
       "  <thead>\n",
       "    <tr style=\"text-align: right;\">\n",
       "      <th></th>\n",
       "      <th>token_pk</th>\n",
       "    </tr>\n",
       "  </thead>\n",
       "  <tbody>\n",
       "    <tr>\n",
       "      <th>0</th>\n",
       "      <td>8858475</td>\n",
       "    </tr>\n",
       "    <tr>\n",
       "      <th>1</th>\n",
       "      <td>8857749</td>\n",
       "    </tr>\n",
       "    <tr>\n",
       "      <th>2</th>\n",
       "      <td>8861400</td>\n",
       "    </tr>\n",
       "    <tr>\n",
       "      <th>3</th>\n",
       "      <td>8857945</td>\n",
       "    </tr>\n",
       "    <tr>\n",
       "      <th>4</th>\n",
       "      <td>8867693</td>\n",
       "    </tr>\n",
       "    <tr>\n",
       "      <th>...</th>\n",
       "      <td>...</td>\n",
       "    </tr>\n",
       "    <tr>\n",
       "      <th>12241</th>\n",
       "      <td>32784316</td>\n",
       "    </tr>\n",
       "    <tr>\n",
       "      <th>12242</th>\n",
       "      <td>32819141</td>\n",
       "    </tr>\n",
       "    <tr>\n",
       "      <th>12243</th>\n",
       "      <td>32820478</td>\n",
       "    </tr>\n",
       "    <tr>\n",
       "      <th>12244</th>\n",
       "      <td>32820877</td>\n",
       "    </tr>\n",
       "    <tr>\n",
       "      <th>12245</th>\n",
       "      <td>32821511</td>\n",
       "    </tr>\n",
       "  </tbody>\n",
       "</table>\n",
       "<p>12246 rows × 1 columns</p>\n",
       "</div>"
      ],
      "text/plain": [
       "       token_pk\n",
       "0       8858475\n",
       "1       8857749\n",
       "2       8861400\n",
       "3       8857945\n",
       "4       8867693\n",
       "...         ...\n",
       "12241  32784316\n",
       "12242  32819141\n",
       "12243  32820478\n",
       "12244  32820877\n",
       "12245  32821511\n",
       "\n",
       "[12246 rows x 1 columns]"
      ]
     },
     "execution_count": 4,
     "metadata": {},
     "output_type": "execute_result"
    }
   ],
   "source": [
    "counter=[0]      # counts how many times has the function is executed\n",
    "\n",
    "def request_nft_token_pk(tag_name_variable):\n",
    "      if counter[0]>0:global pk_value\n",
    "      if counter[0]==0: pk_value=8682680\n",
    "\n",
    "      # declare query to request data from api\n",
    "      nftToken_pk_query=\"\"\"query {\n",
    "      token_tag(where: {tag: {name: {_eq: tag_name_variable}}, _and: {token_pk: {_gt: last_pk_value}}}) {\n",
    "      token_pk\n",
    "      }\n",
    "      }\"\"\"\n",
    "      #create dynamic query to request recursively\n",
    "      nftToken_pk_query=nftToken_pk_query.replace(\"tag_name_variable\",tag_name_variable)\n",
    "      nftToken_pk_query=nftToken_pk_query.replace(\"last_pk_value\",str(pk_value))\n",
    "\n",
    "      #request data from objkt.com api endpoint\n",
    "      token_pk_request = requests.post(api_endpoint, json={'query': nftToken_pk_query})\n",
    "      token_pk_request = json.loads(token_pk_request.text)\n",
    "      token_pk_request=token_pk_request['data']['token_tag']\n",
    "\n",
    "      #have to assign a boolean variable to check is response empty or not\n",
    "      isEmpty_response=False\n",
    "\n",
    "      if counter[0]>0:                       # to avoid unbound local error...\n",
    "            global primaryKey_df             # ...declare as global\n",
    "            global primaryKey_df_loop\n",
    "\n",
    "      if counter[0]==0 :\n",
    "            primaryKey_df = pd.DataFrame()\n",
    "            primaryKey_df_loop = pd.DataFrame()\n",
    "      primaryKey_df_loop = pd.DataFrame(token_pk_request)            # convert json data into a data frame\n",
    "      primaryKey_df=pd.concat([primaryKey_df,primaryKey_df_loop])    # concatenate two data frames to save all data in one data frame\n",
    "\n",
    "\n",
    "      if primaryKey_df_loop.shape[0]>0:         # assign latest primary key value to a new variable to use this value for recursion queries\n",
    "            pk_value=int(primaryKey_df_loop.loc[(primaryKey_df_loop.shape[0])-1].values)\n",
    "      else: isEmpty_response=True               # make boolean value True whenever response is empty\n",
    "\n",
    "      # increase one the variable for each execution of recursive function\n",
    "      counter[0]+=1\n",
    "\n",
    "      # create recursive algorithm inside function\n",
    "      if not isEmpty_response:     # execute the function since it does not retrieve any data from api endpoint\n",
    "            #time.sleep(0.1)\n",
    "            return request_nft_token_pk(tag_name_variable)\n",
    "\n",
    "request_nft_token_pk(\"cartoon\")\n",
    "\n",
    "# arrange index of the data frame\n",
    "primaryKey_df.set_index(np.arange(primaryKey_df.shape[0]))"
   ]
  },
  {
   "cell_type": "markdown",
   "metadata": {},
   "source": [
    "### NFT Recommendation Mechanism\n",
    "\n",
    "> **Random Recommendation**\n",
    "\n",
    "Select an NFT randomly to perform functionality more fair for everyone\n",
    "\n",
    "> **Future Aspects:**\n",
    "\n",
    "On the other hand, this mechanism will be extended with an algorithm in further stages\n",
    "\n",
    "There will be an input option to find underrated artists on ecosystem. The algorithm will recommend artists with low sales"
   ]
  },
  {
   "cell_type": "code",
   "execution_count": 5,
   "metadata": {},
   "outputs": [
    {
     "name": "stdout",
     "output_type": "stream",
     "text": [
      "11932733\n"
     ]
    }
   ],
   "source": [
    "import random\n",
    "randomNFT_index=random.sample(range(primaryKey_df.shape[0]),10)\n",
    "randomNFT=primaryKey_df.iloc[randomNFT_index[0]]\n",
    "\n",
    "print(randomNFT['token_pk'])"
   ]
  },
  {
   "cell_type": "markdown",
   "metadata": {},
   "source": [
    "#### Get NFT Info From API"
   ]
  },
  {
   "cell_type": "code",
   "execution_count": 15,
   "metadata": {},
   "outputs": [],
   "source": [
    "#queries must be evaluated for the chosen primary key\n",
    "\n",
    "nft_info_query= \"\"\"query{\n",
    "  token(where: {pk: {_eq: \"random_pk_value\"}}) {\n",
    "    name\n",
    "    token_id\n",
    "    mime\n",
    "    supply\n",
    "    artifact_uri\n",
    "  }\n",
    "}\n",
    "\"\"\"\n",
    "\n",
    "nft_link_query=\"\"\"query{\n",
    "  token(where: {pk: {_eq: \"random_pk_value\"}}) {\n",
    "    fa {\n",
    "      token_link\n",
    "    }\n",
    "  }\n",
    "}\n",
    "\"\"\"\n",
    "\n",
    "nft_active_sale_query=\"\"\"query{\n",
    "  token(where: {pk: {_eq: \"random_pk_value\"}}) {\n",
    "  \tasks(where: {status: {_eq: \"active\"}}) {\n",
    "      price\n",
    "      seller_address\n",
    "      amount_left\n",
    "      amount\n",
    "\t\t}\n",
    "  }\n",
    "}\"\"\"\n",
    "\n",
    "nft_creator_query=\"\"\"query{\n",
    "  token_creator(where: {token_pk: {_eq: \"random_pk_value\"}}) {\n",
    "    creator_address\n",
    "  }\n",
    "}\"\"\"\n",
    "\n",
    "\n",
    "# quick note...\n",
    "# \"tz1burnburnburnburnburnburnburjAYjjX\" is address of burn address for the burned tokens\n",
    "nft_collectors_query=\"\"\"query{\n",
    "  token(where: {pk: {_eq: \"random_pk_value\"}}) {\n",
    "    holders{\n",
    "      quantity\n",
    "      holder_address\n",
    "    }\n",
    "  }\n",
    "}\"\"\"\n",
    "\n",
    "#replace variable with the primary key value\n",
    "nft_info_query=nft_info_query.replace(\"random_pk_value\",str(randomNFT['token_pk']))\n",
    "nft_link_query=nft_link_query.replace(\"random_pk_value\",str(randomNFT['token_pk']))\n",
    "nft_active_sale_query=nft_active_sale_query.replace(\"random_pk_value\",str(randomNFT['token_pk']))\n",
    "nft_creator_query=nft_creator_query.replace(\"random_pk_value\",str(randomNFT['token_pk']))\n",
    "nft_collectors_query=nft_collectors_query.replace(\"random_pk_value\",str(randomNFT['token_pk']))"
   ]
  },
  {
   "cell_type": "code",
   "execution_count": 18,
   "metadata": {},
   "outputs": [],
   "source": [
    "nft_info_request = requests.post(api_endpoint, json={'query': nft_info_query})\n",
    "nft_info_request = json.loads(nft_info_request.text)\n",
    "nft_info_request = nft_info_request['data']['token']\n",
    "\n",
    "nft_link_request = requests.post(api_endpoint, json={'query': nft_link_query})\n",
    "nft_link_request = json.loads(nft_link_request.text)\n",
    "nft_link_request = nft_link_request['data']['token']\n",
    "\n",
    "nft_active_sale_request = requests.post(api_endpoint, json={'query': nft_active_sale_query})\n",
    "nft_active_sale_request = json.loads(nft_active_sale_request.text)\n",
    "nft_active_sale_request = nft_active_sale_request['data']['token']\n",
    "\n",
    "nft_creator_request = requests.post(api_endpoint, json={'query': nft_creator_query})\n",
    "nft_creator_request = json.loads(nft_creator_request.text)\n",
    "nft_creator_request = nft_creator_request['data']\n",
    "\n",
    "nft_collectors_request = requests.post(api_endpoint, json={'query': nft_collectors_query})\n",
    "nft_collectors_request = json.loads(nft_collectors_request.text)\n",
    "nft_collectors_request = nft_collectors_request['data']['token']"
   ]
  },
  {
   "cell_type": "code",
   "execution_count": 12,
   "metadata": {},
   "outputs": [
    {
     "data": {
      "text/html": [
       "<div>\n",
       "<style scoped>\n",
       "    .dataframe tbody tr th:only-of-type {\n",
       "        vertical-align: middle;\n",
       "    }\n",
       "\n",
       "    .dataframe tbody tr th {\n",
       "        vertical-align: top;\n",
       "    }\n",
       "\n",
       "    .dataframe thead th {\n",
       "        text-align: right;\n",
       "    }\n",
       "</style>\n",
       "<table border=\"1\" class=\"dataframe\">\n",
       "  <thead>\n",
       "    <tr style=\"text-align: right;\">\n",
       "      <th></th>\n",
       "      <th>name</th>\n",
       "      <th>token_id</th>\n",
       "      <th>mime</th>\n",
       "      <th>supply</th>\n",
       "      <th>artifact_uri</th>\n",
       "    </tr>\n",
       "  </thead>\n",
       "  <tbody>\n",
       "    <tr>\n",
       "      <th>0</th>\n",
       "      <td>My essence, My Connectible #25</td>\n",
       "      <td>379743</td>\n",
       "      <td>application/x-directory</td>\n",
       "      <td>1</td>\n",
       "      <td>ipfs://QmYb4U4zFrqxh7oFeSdxGvBicCTEsjzFyyyD4Yy...</td>\n",
       "    </tr>\n",
       "  </tbody>\n",
       "</table>\n",
       "</div>"
      ],
      "text/plain": [
       "                             name token_id                     mime  supply  \\\n",
       "0  My essence, My Connectible #25   379743  application/x-directory       1   \n",
       "\n",
       "                                        artifact_uri  \n",
       "0  ipfs://QmYb4U4zFrqxh7oFeSdxGvBicCTEsjzFyyyD4Yy...  "
      ]
     },
     "execution_count": 12,
     "metadata": {},
     "output_type": "execute_result"
    }
   ],
   "source": [
    "nft_info_df=pd.DataFrame(nft_info_request)\n",
    "nft_info_df"
   ]
  },
  {
   "cell_type": "markdown",
   "metadata": {},
   "source": [
    "#### Request Artist Info From API"
   ]
  },
  {
   "cell_type": "code",
   "execution_count": null,
   "metadata": {},
   "outputs": [],
   "source": [
    "### start here"
   ]
  },
  {
   "cell_type": "markdown",
   "metadata": {},
   "source": [
    "#### TzKT API\n",
    "\n",
    "TzKT API has an endpoint to get data of wallets on tezos ecosystem. Endpoint link:\n",
    ">https://api.tzkt.io/\n",
    "\n",
    "In the following stage, have to match creator address with the tezos ecosystem registered name"
   ]
  },
  {
   "cell_type": "code",
   "execution_count": null,
   "metadata": {},
   "outputs": [],
   "source": [
    "# get creator address' name from tzkt.io API\n",
    "\n",
    "wallet_address=requested_nft_df['creators'][randomNFT]               # assign the wallet address\n",
    "wallet_address=wallet_address[1::]                                   # there ia an empty space on 0th character, to write a proper url\n",
    "\n",
    "account_data_url=f\"https://api.tzkt.io/v1/accounts/{wallet_address}\"        # tzkt.io API endpoint\n",
    "response = requests.get(account_data_url)                                   # send request to get data\n",
    "\n",
    "try:\n",
    "    response=response.json()\n",
    "    print(\"Owner of the wallet address is \"+response['alias'])       # printing username of account owner to see function is whether working or not\n",
    "except KeyError:                                                     # avoid error if the user has not registered with a name\n",
    "    print(\"The user has no name on TzKT API\")                        #'alias' attribute does not exist if the user has not registered with a name\n",
    "except json.decoder.JSONDecodeError:                                 # avoid json-related errors\n",
    "    pass"
   ]
  },
  {
   "cell_type": "code",
   "execution_count": null,
   "metadata": {},
   "outputs": [],
   "source": [
    "account_metadata_url=f\"https://api.tzkt.io/v1/accounts/{wallet_address}/metadata\"        # tzkt.io API endpoint\n",
    "response = requests.get(account_metadata_url)                                            # send request to get data\n",
    "\n",
    "try:response=response.json()                                                             # make object type subscriptable to implement next process\n",
    "except json.decoder.JSONDecodeError:pass                                                 # avoid from exceptional json error"
   ]
  },
  {
   "cell_type": "code",
   "execution_count": null,
   "metadata": {},
   "outputs": [],
   "source": [
    "# get instagram username from metadata, if exists on metadata\n",
    "try:\n",
    "    if(len(response['instagram'])):\n",
    "        print(\"https://www.instagram.com/\"+response['instagram']+\"/\")\n",
    "except json.decoder.JSONDecodeError:\n",
    "    pass\n",
    "except KeyError or TypeError:                                 # program gets KeyError when relevant metadata does not available for the user\n",
    "    print(\"instagram is null\")                   # print to test null case, only for validating the code\n",
    "\n",
    "\n",
    "# get twitter username from metadata, if exists on metadata\n",
    "try:\n",
    "    if(len(response['twitter'])):\n",
    "        print(\"https://www.twitter.com/\"+response['twitter'])\n",
    "except json.decoder.JSONDecodeError:\n",
    "    pass\n",
    "except KeyError or TypeError:\n",
    "    print(\"Twitter is null\")"
   ]
  },
  {
   "cell_type": "code",
   "execution_count": null,
   "metadata": {},
   "outputs": [],
   "source": [
    "# merge all the related cells into a function to make it more dynamic\n",
    "\"\"\"\n",
    "def artist_info(x):\n",
    "    wallet_address=requested_nft_df['creators'][x]                       # assign the wallet address\n",
    "    wallet_address=wallet_address[1::]                                   # there ia an empty space on 0th character, to write a proper url\n",
    "\n",
    "    account_data_url=f\"https://api.tzkt.io/v1/accounts/{wallet_address}\"        # tzkt.io API endpoint\n",
    "    response = requests.get(account_data_url)                                   # send request to get data\n",
    "\n",
    "    try:\n",
    "        response=response.json()\n",
    "        print(\"Owner of the wallet address is \"+response['alias'])       # printing username of account owner to see function is whether working or not\n",
    "    except KeyError or json.decoder.JSONDecodeError:pass\n",
    "\n",
    "    account_metadata_url=f\"https://api.tzkt.io/v1/accounts/{wallet_address}/metadata\"        # tzkt.io API endpoint\n",
    "    response = requests.get(account_metadata_url)                                            # send request to get data\n",
    "\n",
    "    try:\n",
    "        response=response.json()\n",
    "        if(len(response['instagram'])):\n",
    "            print(\"https://www.instagram.com/\"+response['instagram']+\"/\")\n",
    "    except json.decoder.JSONDecodeError:pass\n",
    "    except KeyError:                                 # program gets KeyError when relevant metadata does not available for the user\n",
    "        print(\"instagram is null\")                   # print to test null case, only for validating the code\n",
    "\n",
    "\n",
    "    # get twitter username from metadata, if exists on metadata\n",
    "    try:\n",
    "        response=response.json()\n",
    "        if(len(response['twitter'])):\n",
    "            print(\"https://www.twitter.com/\"+response['twitter'])\n",
    "    except json.decoder.JSONDecodeError:pass\n",
    "    except AttributeError:\n",
    "        if(len(response['twitter'])):\n",
    "            print(\"https://www.twitter.com/\"+response['twitter'])\n",
    "    except KeyError:print(\"Twitter is null\")\n",
    "\n",
    "\n",
    "import random\n",
    "randomNFT_index=random.sample(range(500), 10)\n",
    "randomNFT=randomNFT_index[0]\n",
    "\n",
    "artist_info(randomNFT)\"\"\"\n"
   ]
  }
 ],
 "metadata": {
  "kernelspec": {
   "display_name": "Python 3.8.5",
   "language": "python",
   "name": "python3"
  },
  "language_info": {
   "codemirror_mode": {
    "name": "ipython",
    "version": 3
   },
   "file_extension": ".py",
   "mimetype": "text/x-python",
   "name": "python",
   "nbconvert_exporter": "python",
   "pygments_lexer": "ipython3",
   "version": "3.8.5"
  },
  "orig_nbformat": 4,
  "vscode": {
   "interpreter": {
    "hash": "fa3b654c9bd7dd0d2898fbffb0b4bba72a32af8626a103ba2d5323634cd89e05"
   }
  }
 },
 "nbformat": 4,
 "nbformat_minor": 2
}
