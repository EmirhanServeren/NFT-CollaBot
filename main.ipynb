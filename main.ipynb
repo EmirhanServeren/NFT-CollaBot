{
 "cells": [
  {
   "cell_type": "markdown",
   "metadata": {},
   "source": [
    "# **NFT COLLABOT**\n",
    "\n",
    "> Summary Value Prop Blog\n",
    "\n",
    "*NFT CollaBot* is a project that designed by obtaining requirements of NFT ecosystem. NFT marketplace from Tezos ecosystem named objkt.com will be starting point of the project. NFT CollaBot aims to make underrated artists more visible."
   ]
  },
  {
   "cell_type": "code",
   "execution_count": null,
   "metadata": {},
   "outputs": [],
   "source": [
    "# importing libraries for data process\n",
    "import pandas as pd\n",
    "import numpy as np\n",
    "\n",
    "# importing libraries to handle web scraping\n",
    "import requests\n",
    "import json\n",
    "\n",
    "# string operations will be handled during data analysis\n",
    "import re\n",
    "import string\n",
    "from io import StringIO\n",
    "\n",
    "# also using these libraries\n",
    "import random\n",
    "import time"
   ]
  },
  {
   "cell_type": "markdown",
   "metadata": {},
   "source": [
    "### API DOCUMENTATION\n",
    "\n",
    "Objktcom has a published API documentation\n",
    "*https://data.objkt.com/docs/#listing*\n",
    "\n",
    "Documentation points GraphiQL explore page to try queries.\n",
    "There is a link below that explains how to write queries with GraphiQL\n",
    "*https://graphql.org/learn/queries/*\n",
    "\n",
    "Besides, there is a useful link to code on Python using GraphiQL queries. Check the following link:\n",
    "*https://towardsdatascience.com/connecting-to-a-graphql-api-using-python-246dda927840*"
   ]
  },
  {
   "cell_type": "code",
   "execution_count": null,
   "metadata": {},
   "outputs": [],
   "source": [
    "# objktcom api endpoint will be used for several times to evaluate queries\n",
    "\n",
    "api_endpoint = 'https://data.objkt.com/v2/graphql'"
   ]
  },
  {
   "cell_type": "markdown",
   "metadata": {},
   "source": [
    "> ##### GRAPHIQL\n",
    "GraphiQL playground is useful tool to understand insight of the query format\n",
    ">  https://data.objkt.com/explore/"
   ]
  },
  {
   "cell_type": "markdown",
   "metadata": {},
   "source": [
    "> #### Retrieve Beginning Primary Key Value\n",
    "\n",
    "There are thousands of NFTs belongs to a tag. It will take too long to get all of the data. Besides, it will be more effective to show newer NFTs to achieve main target of the project.\n",
    "\n",
    "The mechanism have to use token_pk to request data, according to API constrains. Decided to choose a token_pk using a timestamp."
   ]
  },
  {
   "cell_type": "code",
   "execution_count": null,
   "metadata": {},
   "outputs": [],
   "source": [
    "# query for getting primary key has evaluated below:\n",
    "\n",
    "#initial_token_pk_query=\"\"\"query {\n",
    "#    token(where: {timestamp: {_gt: \"2022-06-15T00:12:00+00:00\"}}, limit: 1) {\n",
    "#    creators {\n",
    "#        token_pk\n",
    "#    }\n",
    "#    }\n",
    "#}\"\"\"\n",
    "\n",
    "\"\"\"\n",
    "# send request\n",
    "token_pk_data = requests.post(api_endpoint, json={'query': initial_token_pk_query})\n",
    "token_pk_data = json.loads(token_pk_data.text)\n",
    "token_pk_data=token_pk_data['data']['token']\n",
    "\n",
    "# output is 8682680\n",
    "# this primary key will be used in the next steps of the development\n",
    "\"\"\""
   ]
  },
  {
   "cell_type": "markdown",
   "metadata": {},
   "source": [
    "### RECURSIVE MECHANISM TO GET TOKEN PRIMARY KEY DATA\n",
    "\n",
    "After getting primary key of the starting point, query for tag of token will be evaluated. In this query, only primary keys of tokens will be requested from API. Then, this primary key value will be used to get information about related NFT. This mechanism aims to implement request process recursively."
   ]
  },
  {
   "cell_type": "code",
   "execution_count": null,
   "metadata": {},
   "outputs": [],
   "source": [
    "counter=[0]      # counts how many times has the function is executed\n",
    "\n",
    "def request_nft_token_pk(tag_name_variable):\n",
    "      if counter[0]>0:global pk_value\n",
    "      if counter[0]==0: pk_value=8682680\n",
    "\n",
    "      # declare query to request data from api\n",
    "      nftToken_pk_query=\"\"\"query {\n",
    "      token_tag(where: {tag: {name: {_eq: tag_name_variable}}, _and: {token_pk: {_gt: last_pk_value}}}) {\n",
    "      token_pk\n",
    "      }\n",
    "      }\"\"\"\n",
    "      #create dynamic query to request recursively\n",
    "      nftToken_pk_query=nftToken_pk_query.replace(\"tag_name_variable\",tag_name_variable)\n",
    "      nftToken_pk_query=nftToken_pk_query.replace(\"last_pk_value\",str(pk_value))\n",
    "\n",
    "      #request data from objkt.com api endpoint\n",
    "      token_pk_request = requests.post(api_endpoint, json={'query': nftToken_pk_query})\n",
    "      token_pk_request = json.loads(token_pk_request.text)\n",
    "      token_pk_request=token_pk_request['data']['token_tag']\n",
    "\n",
    "      #have to assign a boolean variable to check is response empty or not\n",
    "      isEmpty_response=False\n",
    "\n",
    "      if counter[0]>0:                       # to avoid unbound local error...\n",
    "            global primaryKey_df             # ...declare as global\n",
    "            global primaryKey_df_loop\n",
    "\n",
    "      if counter[0]==0 :\n",
    "            primaryKey_df = pd.DataFrame()\n",
    "            primaryKey_df_loop = pd.DataFrame()\n",
    "      primaryKey_df_loop = pd.DataFrame(token_pk_request)            # convert json data into a data frame\n",
    "      primaryKey_df=pd.concat([primaryKey_df,primaryKey_df_loop])    # concatenate two data frames to save all data in one data frame\n",
    "\n",
    "\n",
    "      if primaryKey_df_loop.shape[0]>0:         # assign latest primary key value to a new variable to use this value for recursion queries\n",
    "            pk_value=int(primaryKey_df_loop.loc[(primaryKey_df_loop.shape[0])-1].values)\n",
    "      else: isEmpty_response=True               # make boolean value True whenever response is empty\n",
    "\n",
    "      # increase one the variable for each execution of recursive function\n",
    "      counter[0]+=1\n",
    "\n",
    "      # create recursive algorithm inside function\n",
    "      if not isEmpty_response:     # execute the function since it does not retrieve any data from api endpoint\n",
    "            #time.sleep(0.1)\n",
    "            return request_nft_token_pk(tag_name_variable)\n",
    "\n",
    "request_nft_token_pk(\"cartoon\")\n",
    "\n",
    "# arrange index of the data frame\n",
    "primaryKey_df.set_index(np.arange(primaryKey_df.shape[0]))"
   ]
  },
  {
   "cell_type": "markdown",
   "metadata": {},
   "source": [
    "### NFT Recommendation Mechanism\n",
    "\n",
    "> **Random Recommendation**\n",
    "\n",
    "Select an NFT randomly to perform functionality more fair for everyone\n",
    "\n",
    "> **Future Aspects:**\n",
    "\n",
    "On the other hand, this mechanism will be extended with an algorithm in further stages\n",
    "\n",
    "There will be an input option to find underrated artists on ecosystem. The algorithm will recommend artists with low sales"
   ]
  },
  {
   "cell_type": "code",
   "execution_count": null,
   "metadata": {},
   "outputs": [],
   "source": [
    "import random\n",
    "randomNFT_index=random.sample(range(primaryKey_df.shape[0]),10)\n",
    "randomNFT=primaryKey_df.iloc[randomNFT_index[0]]\n",
    "\n",
    "print(randomNFT['token_pk'])"
   ]
  },
  {
   "cell_type": "markdown",
   "metadata": {},
   "source": [
    "### Get NFT Info From API"
   ]
  },
  {
   "cell_type": "code",
   "execution_count": null,
   "metadata": {},
   "outputs": [],
   "source": [
    "#queries must be evaluated for the chosen primary key\n",
    "\n",
    "nft_info_query= \"\"\"query{\n",
    "  token(where: {pk: {_eq: \"random_pk_value\"}}) {\n",
    "    name\n",
    "    token_id\n",
    "    mime\n",
    "    supply\n",
    "    artifact_uri\n",
    "  }\n",
    "}\n",
    "\"\"\"\n",
    "\n",
    "nft_link_query=\"\"\"query{\n",
    "  token(where: {pk: {_eq: \"random_pk_value\"}}) {\n",
    "    fa {\n",
    "      token_link\n",
    "    }\n",
    "  }\n",
    "}\n",
    "\"\"\"\n",
    "\n",
    "nft_active_sale_query=\"\"\"query{\n",
    "  token(where: {pk: {_eq: \"random_pk_value\"}}) {\n",
    "  \tasks(where: {status: {_neq: \"cancelled\"}}) {\n",
    "      price\n",
    "      seller_address\n",
    "      amount_left\n",
    "      status\n",
    "      timestamp\n",
    "\t\t}\n",
    "  }\n",
    "}\"\"\"\n",
    "\n",
    "nft_creator_query=\"\"\"query{\n",
    "  token_creator(where: {token_pk: {_eq: \"random_pk_value\"}}) {\n",
    "    creator_address\n",
    "  }\n",
    "}\"\"\"\n",
    "\n",
    "\n",
    "# quick note...\n",
    "# \"tz1burnburnburnburnburnburnburjAYjjX\" is address of burn address for the burned tokens\n",
    "nft_collectors_query=\"\"\"query{\n",
    "  token(where: {pk: {_eq: \"random_pk_value\"}}) {\n",
    "    holders{\n",
    "      quantity\n",
    "      holder_address\n",
    "    }\n",
    "  }\n",
    "}\"\"\"\n",
    "\n",
    "#replace variable with the primary key value\n",
    "nft_info_query=nft_info_query.replace(\"random_pk_value\",str(randomNFT['token_pk']))\n",
    "nft_link_query=nft_link_query.replace(\"random_pk_value\",str(randomNFT['token_pk']))\n",
    "nft_active_sale_query=nft_active_sale_query.replace(\"random_pk_value\",str(randomNFT['token_pk']))\n",
    "nft_creator_query=nft_creator_query.replace(\"random_pk_value\",str(randomNFT['token_pk']))\n",
    "nft_collectors_query=nft_collectors_query.replace(\"random_pk_value\",str(randomNFT['token_pk']))"
   ]
  },
  {
   "cell_type": "code",
   "execution_count": null,
   "metadata": {},
   "outputs": [],
   "source": [
    "nft_info_request = requests.post(api_endpoint, json={'query': nft_info_query})\n",
    "nft_info_request = json.loads(nft_info_request.text)\n",
    "nft_info_request = nft_info_request['data']['token']\n",
    "\n",
    "nft_link_request = requests.post(api_endpoint, json={'query': nft_link_query})\n",
    "nft_link_request = json.loads(nft_link_request.text)\n",
    "nft_link_request = nft_link_request['data']['token']\n",
    "\n",
    "nft_active_sale_request = requests.post(api_endpoint, json={'query': nft_active_sale_query})\n",
    "nft_active_sale_request = json.loads(nft_active_sale_request.text)\n",
    "nft_active_sale_request = nft_active_sale_request['data']['token']\n",
    "\n",
    "nft_creator_request = requests.post(api_endpoint, json={'query': nft_creator_query})\n",
    "nft_creator_request = json.loads(nft_creator_request.text)\n",
    "nft_creator_request = nft_creator_request['data']\n",
    "\n",
    "nft_collectors_request = requests.post(api_endpoint, json={'query': nft_collectors_query})\n",
    "nft_collectors_request = json.loads(nft_collectors_request.text)\n",
    "nft_collectors_request = nft_collectors_request['data']['token']"
   ]
  },
  {
   "cell_type": "code",
   "execution_count": null,
   "metadata": {},
   "outputs": [],
   "source": [
    "nft_info_df=pd.DataFrame(nft_info_request)   # convert into data frame\n",
    "nft_info_df"
   ]
  },
  {
   "cell_type": "markdown",
   "metadata": {},
   "source": [
    "> #### Generate NFT Link"
   ]
  },
  {
   "cell_type": "code",
   "execution_count": null,
   "metadata": {},
   "outputs": [],
   "source": [
    "nft_link=nft_link_request[0]['fa']['token_link']                      # parse data\n",
    "nft_link=nft_link.replace(\":id\",str(int(nft_info_df['token_id'][0]))) # replace a part of string with the token_id to complete url\n",
    "nft_link"
   ]
  },
  {
   "cell_type": "markdown",
   "metadata": {},
   "source": [
    "> #### Generate NFT Primary-Secondary Stats"
   ]
  },
  {
   "cell_type": "code",
   "execution_count": null,
   "metadata": {},
   "outputs": [],
   "source": [
    "nft_active_sale_request=nft_active_sale_request[0]['asks']\n",
    "nft_active_sale_request_df=pd.DataFrame(nft_active_sale_request)"
   ]
  },
  {
   "cell_type": "code",
   "execution_count": null,
   "metadata": {},
   "outputs": [],
   "source": [
    "if nft_active_sale_request_df.empty is True: print(\"no active sale!\")\n",
    "else: print(\"Available\")"
   ]
  },
  {
   "cell_type": "markdown",
   "metadata": {},
   "source": [
    "> #### Generate Creator Info"
   ]
  },
  {
   "cell_type": "code",
   "execution_count": null,
   "metadata": {},
   "outputs": [],
   "source": [
    "nft_creator_request=nft_creator_request['token_creator']\n",
    "nft_creator_request=nft_creator_request[0]['creator_address']\n",
    "nft_creator_request"
   ]
  },
  {
   "cell_type": "markdown",
   "metadata": {},
   "source": [
    ">> #### TzKT API\n",
    "\n",
    "TzKT API has an endpoint to get data of wallets on tezos ecosystem. Endpoint link:\n",
    ">>>https://api.tzkt.io/\n",
    "\n",
    "In the following stage, have to match creator address with the tezos ecosystem registered name"
   ]
  },
  {
   "cell_type": "code",
   "execution_count": null,
   "metadata": {},
   "outputs": [],
   "source": [
    "import contextlib\n",
    "def artist_info(wallet_address_input):\n",
    "    account_data_url=f\"https://api.tzkt.io/v1/accounts/{wallet_address_input}\"        # tzkt.io API endpoint\n",
    "    response = requests.get(account_data_url)                                   # send request to get data\n",
    "\n",
    "    with contextlib.suppress(KeyError or json.decoder.JSONDecodeError):\n",
    "        response=response.json()\n",
    "        print(\"Owner of the wallet address is \"+response['alias'])       # printing username of account owner to see function is whether working or not\n",
    "\n",
    "    account_metadata_url=f\"https://api.tzkt.io/v1/accounts/{wallet_address_input}/metadata\"        # tzkt.io API endpoint\n",
    "    response = requests.get(account_metadata_url)                                                  # send request to get data\n",
    "\n",
    "    try:\n",
    "        response=response.json()\n",
    "        if(len(response['instagram'])):\n",
    "            print(\"https://www.instagram.com/\"+response['instagram']+\"/\")\n",
    "    except json.decoder.JSONDecodeError:pass\n",
    "    except KeyError:                                 # program gets KeyError when relevant metadata does not available for the user\n",
    "        print(\"instagram is null\")                   # print to test null case, only for validating the code\n",
    "\n",
    "\n",
    "    # get twitter username from metadata, if exists on metadata\n",
    "    try:\n",
    "        response=response.json()\n",
    "        if(len(response['twitter'])):\n",
    "            print(\"https://www.twitter.com/\"+response['twitter'])\n",
    "    except json.decoder.JSONDecodeError:pass\n",
    "    except AttributeError:\n",
    "        if(len(response['twitter'])):\n",
    "            print(\"https://www.twitter.com/\"+response['twitter'])\n",
    "    except KeyError:print(\"Twitter is null\")\n",
    "\n",
    "\n",
    "artist_info(nft_creator_request)"
   ]
  },
  {
   "cell_type": "markdown",
   "metadata": {},
   "source": [
    "### Request Artist Info for Stats From API\n"
   ]
  },
  {
   "cell_type": "markdown",
   "metadata": {},
   "source": [
    "\n",
    "> All NFTs of a Creator"
   ]
  },
  {
   "cell_type": "code",
   "execution_count": 100,
   "metadata": {},
   "outputs": [
    {
     "name": "stdout",
     "output_type": "stream",
     "text": [
      "Creator has 56 NFT has been created totally so far.\n",
      "                                              name        pk\n",
      "0                          .......................     15170\n",
      "1                                          Cheers!    421766\n",
      "2                                     \"Am I Evil?\"    653032\n",
      "3                          \\m/ an evil song \\m/...    692466\n",
      "4                                    Mentally Dead   1449365\n",
      "5                        i wish i am NOT platonic!   2144188\n",
      "6    this is NOT investment advice, this is a NFT!   2144310\n",
      "7                                         wake up!   2683991\n",
      "8                                  Lost Soul 4ever   2684947\n",
      "9                                        BANG BANG   2920121\n",
      "10                           \"To Be or Not to Be!\"   3979532\n",
      "11                                    \"ZUHAHAHAHA\"   5708877\n",
      "12                                       bodyguard   5721696\n",
      "13                             Talking With Fellaz   6290371\n",
      "14      I'm dreaming of you even when I'm sleeping   6908424\n",
      "15                                     Night Shift  12707809\n",
      "16                                        Crawling  13502734\n",
      "17                                   devil's trick  13724965\n",
      "18                                    dog of devil  13897389\n",
      "19                             collected n' burned  14324234\n",
      "20                         o grandpa o devil o sun  14423588\n",
      "21                        picnic at garden of eden  14811037\n",
      "22                        in the rites of birthday  15298094\n",
      "23                                  childhood idol  15968299\n",
      "24                        summer is not over, yet!  16216411\n",
      "25                             The Big Bang Theory  17940183\n",
      "26                                 i am NOT angry!  18029980\n",
      "27                                i am NOT crying!  18085060\n",
      "28                              i am NOT freezing!  18208241\n",
      "29           i am NOT confused, u are complicated!  18373951\n",
      "30  u are NOT funny, i am laughing at my own joke!  18593196\n",
      "31                       dead but NOT quit smoking  18759158\n",
      "32                                i am NOT guilty!  18821698\n",
      "33                       i can not believe my eyes  19268281\n",
      "34                    Spaces in Space#1-Lying Down  19727190\n",
      "35                        Spaces in Space#2-Replay  19749083\n",
      "36                bipolar fella from my sketchbook  19861460\n",
      "37      Spaces in Space#3-Smoking While Waiting...  19953336\n",
      "38                        Spaces in Space#4-Bounce  20144723\n",
      "39                          Spaces in Space#5-Seed  20207881\n",
      "40               ghosts n' skulls#1-deadly perform  20396419\n",
      "41                    ghosts n' skulls#2-super old  20478567\n",
      "42                    ghosts n' skulls#3-be quiet!  23611650\n",
      "43                      ghosts n' skulls#4-cheers!  23630688\n",
      "44                 ghosts n' skulls#5-dead defence  23652784\n",
      "45                    ghosts n' skulls#6-collector  23720296\n",
      "46                ghosts n' skulls#7-missing piece  23787554\n",
      "47            ghosts n' skulls#8-death anniversary  23820488\n",
      "48      ghosts n' skulls#9-ghosts n' skulls rocks!  23912076\n",
      "49     ghosts n' skulls#10-they died happily after  23962092\n",
      "50                           ghosts n' skulls-muse  23964781\n",
      "51                     celebrating events be like:  23964790\n",
      "52        aware of nothin' while chatting with her  24024410\n",
      "53                                     waiting her  24041127\n",
      "54                        tired to torture sinners  24091544\n",
      "55                                  late nite draw  24113166\n"
     ]
    }
   ],
   "source": [
    "# evaluate a recursive function for it\n",
    "\n",
    "counterN=[0]\n",
    "def creator_all_NFTs(wallet_address):\n",
    "    if counterN[0]>0:global nft_pk_val\n",
    "    if counterN[0]==0:nft_pk_val=0\n",
    "\n",
    "    creator_allNFT_query=\"\"\"query{\n",
    "        listing(where: {token: {creators: {creator_address: {_eq: \"wallet_address\"}, token_pk: {_gt: \"nft_pk_val\"}}}}, distinct_on: token_pk) {\n",
    "        token {\n",
    "            pk\n",
    "            name\n",
    "        }\n",
    "    }\n",
    "    }\"\"\"\n",
    "    creator_allNFT_query = creator_allNFT_query.replace(\"nft_pk_val\",str(nft_pk_val))\n",
    "    creator_allNFT_query = creator_allNFT_query.replace(\"wallet_address\",str(wallet_address))\n",
    "\n",
    "    creator_all_nft_pk = requests.post(api_endpoint, json={'query': creator_allNFT_query})\n",
    "    creator_all_nft_pk = json.loads(creator_all_nft_pk.text)\n",
    "    creator_all_nft_pk = creator_all_nft_pk['data']['listing']\n",
    "\n",
    "    isEmpty_response=False\n",
    "    if counterN[0]>0:\n",
    "        global all_NFTs_df\n",
    "        global loop_NFTs_df\n",
    "    if counterN[0]==0:\n",
    "        all_NFTs_df=pd.DataFrame()\n",
    "        loop_NFTs_df=pd.DataFrame()\n",
    "    for x in range(len(creator_all_nft_pk)):\n",
    "        loop_NFTs_df=loop_NFTs_df.append(creator_all_nft_pk[x]['token'],ignore_index=True)\n",
    "    loop_NFTs_df['pk']=loop_NFTs_df['pk'].astype(int)\n",
    "\n",
    "    all_NFTs_df=pd.concat([all_NFTs_df,loop_NFTs_df])\n",
    "\n",
    "    counterN[0]+=1\n",
    "\n",
    "    if len(creator_all_nft_pk)==500:  # max retrieves are 500, if less there are no more data to response from api\n",
    "        nft_pk_val=int(loop_NFTs_df['pk'][498])\n",
    "        return creator_all_NFTs(wallet_address)\n",
    "    else:\n",
    "        print(f\"Creator has {len(all_NFTs_df)} NFT has been created totally so far.\")\n",
    "        #print(all_NFTs_df)\n",
    "\n",
    "\n",
    "# to see how function works, used my wallet address\n",
    "creator_all_NFTs(\"tz1YAZ5Vkyc1Gpdy342uT33FYYFhyn2v6ibh\")"
   ]
  },
  {
   "cell_type": "markdown",
   "metadata": {},
   "source": [
    "\n",
    "> Available Primary Sales"
   ]
  },
  {
   "cell_type": "code",
   "execution_count": null,
   "metadata": {},
   "outputs": [],
   "source": [
    "# request primary sale NFTs info from a creator\n",
    "# as an example, used my wallet address to see my NFTs\n",
    "# this query requests only active primary sales from NFT creators because seller address attribute has same input with creator address...\n",
    "# ...and status is Active\n",
    "\n",
    "creator_nft_primaryNFT_info_query=\"\"\"query{\n",
    "  listing(where: {seller_address: {_eq: \"tz1YAZ5Vkyc1Gpdy342uT33FYYFhyn2v6ibh\"}, status: {_eq: \"active\"}, token: {creators: {creator_address: {_eq: \"tz1YAZ5Vkyc1Gpdy342uT33FYYFhyn2v6ibh\"}}}}) {\n",
    "    token {\n",
    "      name\n",
    "      pk\n",
    "      supply\n",
    "    }\n",
    "  }\n",
    "}\"\"\"\n",
    "\n",
    "creator_primary_nft_pk = requests.post(api_endpoint, json={'query': creator_nft_primaryNFT_info_query})\n",
    "creator_primary_nft_pk = json.loads(creator_primary_nft_pk.text)\n",
    "creator_primary_nft_pk = creator_primary_nft_pk['data']['listing']\n",
    "\n",
    "creator_primary_nft_pk\n",
    "\n",
    "# then use another query to find out how many pieces left on primary, or use \"holders\" attribute on query?"
   ]
  },
  {
   "cell_type": "code",
   "execution_count": null,
   "metadata": {},
   "outputs": [],
   "source": [
    "# sale history of artists for their created pieces- FIX IT!!!\n",
    "creator_sale_history_info_query=\"\"\"query{\n",
    "  listing(where: {seller_address: {_eq: \"tz1YAZ5Vkyc1Gpdy342uT33FYYFhyn2v6ibh\"}, status: {_neq: \"cancelled\"}, token: {creators: {creator_address: {_eq: \"tz1YAZ5Vkyc1Gpdy342uT33FYYFhyn2v6ibh\"}}}}) {\n",
    "    token_pk\n",
    "    amount\n",
    "    amount_left\n",
    "    price\n",
    "    status\n",
    "    timestamp\n",
    "    token {\n",
    "      name\n",
    "    }\n",
    "    listing_sales {\n",
    "      buyer_address\n",
    "      seller_address\n",
    "    }\n",
    "  }\n",
    "}\"\"\"\n",
    "creator_sale_history_info = requests.post(api_endpoint, json={'query': creator_sale_history_info_query})\n",
    "creator_sale_history_info = json.loads(creator_sale_history_info.text)\n",
    "creator_sale_history_info = creator_sale_history_info['data']['listing']\n",
    "\n",
    "creator_sale_history_info\n",
    "\n",
    "sale_ofToken=creator_sale_history_info[0]['listing_sales'] # 0 stands for index\n",
    "sale_ofToken"
   ]
  }
 ],
 "metadata": {
  "kernelspec": {
   "display_name": "Python 3.8.5",
   "language": "python",
   "name": "python3"
  },
  "language_info": {
   "codemirror_mode": {
    "name": "ipython",
    "version": 3
   },
   "file_extension": ".py",
   "mimetype": "text/x-python",
   "name": "python",
   "nbconvert_exporter": "python",
   "pygments_lexer": "ipython3",
   "version": "3.8.5"
  },
  "orig_nbformat": 4,
  "vscode": {
   "interpreter": {
    "hash": "fa3b654c9bd7dd0d2898fbffb0b4bba72a32af8626a103ba2d5323634cd89e05"
   }
  }
 },
 "nbformat": 4,
 "nbformat_minor": 2
}
